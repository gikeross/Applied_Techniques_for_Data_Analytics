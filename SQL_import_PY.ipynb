{
 "cells": [
  {
   "cell_type": "code",
   "execution_count": null,
   "id": "4ef9d8b1",
   "metadata": {},
   "outputs": [],
   "source": [
    "# ourworldindata.org/coviddeaths\n"
   ]
  },
  {
   "cell_type": "code",
   "execution_count": 1,
   "id": "3d961f81",
   "metadata": {},
   "outputs": [],
   "source": [
    "import pandas as pd\n",
    "import numpy as np\n",
    "from sqlalchemy import create_engine\n",
    "import getpass"
   ]
  },
  {
   "cell_type": "code",
   "execution_count": 2,
   "id": "aeb0d24b",
   "metadata": {},
   "outputs": [],
   "source": [
    "CovidDeaths=pd.read_excel(\"/Users/giacomorossini/Desktop/IRONHACK/Random_project/example/PortfolioProjects/CovidDeaths.xlsx\")\n",
    "CovidVaccinations=pd.read_excel(\"/Users/giacomorossini/Desktop/IRONHACK/Random_project/example/PortfolioProjects/CovidVaccinations.xlsx\")"
   ]
  },
  {
   "cell_type": "code",
   "execution_count": 3,
   "id": "13b45b4f",
   "metadata": {
    "scrolled": true
   },
   "outputs": [
    {
     "name": "stdout",
     "output_type": "stream",
     "text": [
      "········\n"
     ]
    }
   ],
   "source": [
    "password = getpass.getpass()"
   ]
  },
  {
   "cell_type": "code",
   "execution_count": 4,
   "id": "32bdc1d0",
   "metadata": {},
   "outputs": [
    {
     "data": {
      "text/plain": [
       "85171"
      ]
     },
     "execution_count": 4,
     "metadata": {},
     "output_type": "execute_result"
    }
   ],
   "source": [
    "engine = create_engine('mysql+pymysql://root:' + password + '@localhost/covid_project')\n",
    "CovidDeaths.to_sql('CovidDeaths', con=engine, if_exists='append', index=False)"
   ]
  },
  {
   "cell_type": "code",
   "execution_count": 5,
   "id": "b4f19a9f",
   "metadata": {},
   "outputs": [
    {
     "data": {
      "text/plain": [
       "85171"
      ]
     },
     "execution_count": 5,
     "metadata": {},
     "output_type": "execute_result"
    }
   ],
   "source": [
    "CovidVaccinations.to_sql('CovidVaccinations', con=engine, if_exists='append', index=False)"
   ]
  }
 ],
 "metadata": {
  "kernelspec": {
   "display_name": "Python 3 (ipykernel)",
   "language": "python",
   "name": "python3"
  },
  "language_info": {
   "codemirror_mode": {
    "name": "ipython",
    "version": 3
   },
   "file_extension": ".py",
   "mimetype": "text/x-python",
   "name": "python",
   "nbconvert_exporter": "python",
   "pygments_lexer": "ipython3",
   "version": "3.11.5"
  }
 },
 "nbformat": 4,
 "nbformat_minor": 5
}
